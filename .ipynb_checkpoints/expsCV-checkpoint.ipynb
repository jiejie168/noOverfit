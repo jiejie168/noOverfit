{
 "cells": [
  {
   "cell_type": "code",
   "execution_count": 156,
   "metadata": {},
   "outputs": [
    {
     "data": {
      "text/html": [
       "<div>\n",
       "<style scoped>\n",
       "    .dataframe tbody tr th:only-of-type {\n",
       "        vertical-align: middle;\n",
       "    }\n",
       "\n",
       "    .dataframe tbody tr th {\n",
       "        vertical-align: top;\n",
       "    }\n",
       "\n",
       "    .dataframe thead th {\n",
       "        text-align: right;\n",
       "    }\n",
       "</style>\n",
       "<table border=\"1\" class=\"dataframe\">\n",
       "  <thead>\n",
       "    <tr style=\"text-align: right;\">\n",
       "      <th></th>\n",
       "      <th>0</th>\n",
       "      <th>1</th>\n",
       "      <th>2</th>\n",
       "      <th>3</th>\n",
       "      <th>4</th>\n",
       "      <th>5</th>\n",
       "      <th>6</th>\n",
       "      <th>7</th>\n",
       "      <th>8</th>\n",
       "      <th>9</th>\n",
       "      <th>...</th>\n",
       "      <th>291</th>\n",
       "      <th>292</th>\n",
       "      <th>293</th>\n",
       "      <th>294</th>\n",
       "      <th>295</th>\n",
       "      <th>296</th>\n",
       "      <th>297</th>\n",
       "      <th>298</th>\n",
       "      <th>299</th>\n",
       "      <th>target</th>\n",
       "    </tr>\n",
       "  </thead>\n",
       "  <tbody>\n",
       "    <tr>\n",
       "      <th>0</th>\n",
       "      <td>-1.485170</td>\n",
       "      <td>-0.996666</td>\n",
       "      <td>-0.777494</td>\n",
       "      <td>1.153032</td>\n",
       "      <td>-1.795453</td>\n",
       "      <td>0.642471</td>\n",
       "      <td>-1.264309</td>\n",
       "      <td>0.612095</td>\n",
       "      <td>-0.709995</td>\n",
       "      <td>-0.031190</td>\n",
       "      <td>...</td>\n",
       "      <td>0.450016</td>\n",
       "      <td>-1.639074</td>\n",
       "      <td>-2.283475</td>\n",
       "      <td>-0.847988</td>\n",
       "      <td>0.193462</td>\n",
       "      <td>-0.669236</td>\n",
       "      <td>0.959306</td>\n",
       "      <td>0.185936</td>\n",
       "      <td>-0.746526</td>\n",
       "      <td>1.0</td>\n",
       "    </tr>\n",
       "    <tr>\n",
       "      <th>1</th>\n",
       "      <td>-0.260205</td>\n",
       "      <td>-0.482804</td>\n",
       "      <td>-0.430632</td>\n",
       "      <td>-0.179617</td>\n",
       "      <td>-0.952935</td>\n",
       "      <td>-1.241318</td>\n",
       "      <td>-0.864576</td>\n",
       "      <td>-0.251016</td>\n",
       "      <td>-0.662447</td>\n",
       "      <td>0.626352</td>\n",
       "      <td>...</td>\n",
       "      <td>2.631532</td>\n",
       "      <td>-1.168064</td>\n",
       "      <td>-0.867030</td>\n",
       "      <td>-0.221131</td>\n",
       "      <td>-1.107081</td>\n",
       "      <td>1.312096</td>\n",
       "      <td>0.349135</td>\n",
       "      <td>-0.418274</td>\n",
       "      <td>0.294280</td>\n",
       "      <td>0.0</td>\n",
       "    </tr>\n",
       "    <tr>\n",
       "      <th>2</th>\n",
       "      <td>-1.424565</td>\n",
       "      <td>-0.423744</td>\n",
       "      <td>-1.222639</td>\n",
       "      <td>0.474502</td>\n",
       "      <td>0.259284</td>\n",
       "      <td>-1.021766</td>\n",
       "      <td>-1.578716</td>\n",
       "      <td>-0.672980</td>\n",
       "      <td>-0.103300</td>\n",
       "      <td>0.842649</td>\n",
       "      <td>...</td>\n",
       "      <td>0.666266</td>\n",
       "      <td>0.216338</td>\n",
       "      <td>-0.592357</td>\n",
       "      <td>-0.357294</td>\n",
       "      <td>-0.247524</td>\n",
       "      <td>0.682578</td>\n",
       "      <td>-0.055944</td>\n",
       "      <td>1.355923</td>\n",
       "      <td>-2.943966</td>\n",
       "      <td>1.0</td>\n",
       "    </tr>\n",
       "    <tr>\n",
       "      <th>3</th>\n",
       "      <td>-0.891399</td>\n",
       "      <td>1.287236</td>\n",
       "      <td>2.954355</td>\n",
       "      <td>1.749944</td>\n",
       "      <td>-0.050278</td>\n",
       "      <td>-0.298393</td>\n",
       "      <td>0.416985</td>\n",
       "      <td>-0.100510</td>\n",
       "      <td>-0.144947</td>\n",
       "      <td>-0.373513</td>\n",
       "      <td>...</td>\n",
       "      <td>-0.658154</td>\n",
       "      <td>-1.078928</td>\n",
       "      <td>-1.007288</td>\n",
       "      <td>0.823626</td>\n",
       "      <td>1.816844</td>\n",
       "      <td>0.385643</td>\n",
       "      <td>0.336360</td>\n",
       "      <td>-0.290296</td>\n",
       "      <td>-0.178473</td>\n",
       "      <td>1.0</td>\n",
       "    </tr>\n",
       "    <tr>\n",
       "      <th>4</th>\n",
       "      <td>0.761163</td>\n",
       "      <td>1.817339</td>\n",
       "      <td>-0.340563</td>\n",
       "      <td>-1.426857</td>\n",
       "      <td>0.090110</td>\n",
       "      <td>-0.816039</td>\n",
       "      <td>0.309849</td>\n",
       "      <td>0.732016</td>\n",
       "      <td>0.852808</td>\n",
       "      <td>-0.828536</td>\n",
       "      <td>...</td>\n",
       "      <td>0.098715</td>\n",
       "      <td>-0.060200</td>\n",
       "      <td>-0.773452</td>\n",
       "      <td>0.563146</td>\n",
       "      <td>-2.487468</td>\n",
       "      <td>1.986556</td>\n",
       "      <td>0.670373</td>\n",
       "      <td>-0.058766</td>\n",
       "      <td>2.633325</td>\n",
       "      <td>1.0</td>\n",
       "    </tr>\n",
       "  </tbody>\n",
       "</table>\n",
       "<p>5 rows × 301 columns</p>\n",
       "</div>"
      ],
      "text/plain": [
       "          0         1         2         3         4         5         6  \\\n",
       "0 -1.485170 -0.996666 -0.777494  1.153032 -1.795453  0.642471 -1.264309   \n",
       "1 -0.260205 -0.482804 -0.430632 -0.179617 -0.952935 -1.241318 -0.864576   \n",
       "2 -1.424565 -0.423744 -1.222639  0.474502  0.259284 -1.021766 -1.578716   \n",
       "3 -0.891399  1.287236  2.954355  1.749944 -0.050278 -0.298393  0.416985   \n",
       "4  0.761163  1.817339 -0.340563 -1.426857  0.090110 -0.816039  0.309849   \n",
       "\n",
       "          7         8         9   ...         291       292       293  \\\n",
       "0  0.612095 -0.709995 -0.031190   ...    0.450016 -1.639074 -2.283475   \n",
       "1 -0.251016 -0.662447  0.626352   ...    2.631532 -1.168064 -0.867030   \n",
       "2 -0.672980 -0.103300  0.842649   ...    0.666266  0.216338 -0.592357   \n",
       "3 -0.100510 -0.144947 -0.373513   ...   -0.658154 -1.078928 -1.007288   \n",
       "4  0.732016  0.852808 -0.828536   ...    0.098715 -0.060200 -0.773452   \n",
       "\n",
       "        294       295       296       297       298       299  target  \n",
       "0 -0.847988  0.193462 -0.669236  0.959306  0.185936 -0.746526     1.0  \n",
       "1 -0.221131 -1.107081  1.312096  0.349135 -0.418274  0.294280     0.0  \n",
       "2 -0.357294 -0.247524  0.682578 -0.055944  1.355923 -2.943966     1.0  \n",
       "3  0.823626  1.816844  0.385643  0.336360 -0.290296 -0.178473     1.0  \n",
       "4  0.563146 -2.487468  1.986556  0.670373 -0.058766  2.633325     1.0  \n",
       "\n",
       "[5 rows x 301 columns]"
      ]
     },
     "execution_count": 156,
     "metadata": {},
     "output_type": "execute_result"
    }
   ],
   "source": [
    "import numpy as np\n",
    "import pandas as pd\n",
    "np.random.seed(300)\n",
    "train=pd.DataFrame(np.zeros((250,300)))\n",
    "for i in range(300):\n",
    "    train.iloc[:,i]=np.random.normal(0,1,250)\n",
    "train['target']=np.random.uniform(0,1,250)\n",
    "train.loc[train['target']>0.34,'target']=1 #boolen mask\n",
    "train.loc[train['target']<=0.34,'target']=0\n",
    "train.head()"
   ]
  },
  {
   "cell_type": "markdown",
   "metadata": {},
   "source": [
    "##  experiment1:  randomly produce  a group train of data (250*300), and a target containing only 0 and 1. Use the logisticregress to fit a model for prediction. "
   ]
  },
  {
   "cell_type": "code",
   "execution_count": 157,
   "metadata": {},
   "outputs": [
    {
     "name": "stdout",
     "output_type": "stream",
     "text": [
      "0.68988\n"
     ]
    }
   ],
   "source": [
    "from sklearn.linear_model import LogisticRegression\n",
    "from sklearn.model_selection import RepeatedKFold,RepeatedStratifiedKFold,KFold\n",
    "from sklearn.metrics import roc_auc_score\n",
    "\n",
    "\n",
    "pred_array=np.zeros(len(train))\n",
    "rskf=RepeatedStratifiedKFold(n_splits=25,n_repeats=5) # split the trian data into25 folds, repeated for 5 times. \n",
    "# it means that there are 125 times of fitting overall. \n",
    "# kf=KFold(n_splits=25)\n",
    "# i=0\n",
    "for train_index,test_index in rskf.split(train.iloc[:,:-1],train['target']):\n",
    "    clf=LogisticRegression(solver='liblinear',penalty='l1',C=0.1,class_weight='balanced')\n",
    "    clf.fit(train.loc[train_index].iloc[:,:-1],train.loc[train_index]['target'])\n",
    "    prob=clf.predict_proba(train.loc[test_index].iloc[:,:-1])\n",
    "    pred_array[test_index]+=prob[:,1] \n",
    "\n",
    "# since the folds are repeated for 5 times, the final overal probability should be divided by 5. \n",
    "auc=round(roc_auc_score(train['target'],pred_array/5),5) #\n",
    "# print (pred_array)\n",
    "# print (pred_array.shape)\n",
    "print (auc)"
   ]
  },
  {
   "cell_type": "code",
   "execution_count": 158,
   "metadata": {},
   "outputs": [
    {
     "name": "stdout",
     "output_type": "stream",
     "text": [
      "(250, 1)\n",
      "(250,)\n",
      "<class 'pandas.core.frame.DataFrame'>\n",
      "<class 'pandas.core.series.Series'>\n",
      "<class 'pandas.core.series.Series'>\n",
      "RangeIndex(start=0, stop=250, step=1)\n",
      "[0 1 2 3 4 5 6 7 8 9 10 11 12 13 14 15 16 17 18 19 20 21 22 23 24 25 26 27\n",
      " 28 29 30 31 32 33 34 35 36 37 38 39 40 41 42 43 44 45 46 47 48 49 50 51\n",
      " 52 53 54 55 56 57 58 59 60 61 62 63 64 65 66 67 68 69 70 71 72 73 74 75\n",
      " 76 77 78 79 80 81 82 83 84 85 86 87 88 89 90 91 92 93 94 95 96 97 98 99\n",
      " 100 101 102 103 104 105 106 107 108 109 110 111 112 113 114 115 116 117\n",
      " 118 119 120 121 122 123 124 125 126 127 128 129 130 131 132 133 134 135\n",
      " 136 137 138 139 140 141 142 143 144 145 146 147 148 149 150 151 152 153\n",
      " 154 155 156 157 158 159 160 161 162 163 164 165 166 167 168 169 170 171\n",
      " 172 173 174 175 176 177 178 179 180 181 182 183 184 185 186 187 188 189\n",
      " 190 191 192 193 194 195 196 197 198 199 200 201 202 203 204 205 206 207\n",
      " 208 209 210 211 212 213 214 215 216 217 218 219 220 221 222 223 224 225\n",
      " 226 227 228 229 230 231 232 233 234 235 236 237 238 239 240 241 242 243\n",
      " 244 245 246 247 248 249 250 251 252 253 254 255 256 257 258 259 260 261\n",
      " 262 263 264 265 266 267 268 269 270 271 272 273 274 275 276 277 278 279\n",
      " 280 281 282 283 284 285 286 287 288 289 290 291 292 293 294 295 296 297\n",
      " 298 299 'target']\n"
     ]
    }
   ],
   "source": [
    "print (train[[i]].shape)\n",
    "print (train[i].shape)\n",
    "print (type(train[[i]]))\n",
    "print (type(train[i]))\n",
    "print (type(train.loc[i-50]))\n",
    "# train.iloc[i-50]\n",
    "print (train.index)\n",
    "columns=train.columns\n",
    "print (columns.values)"
   ]
  },
  {
   "cell_type": "markdown",
   "metadata": {},
   "source": [
    "this value implies the random model is a good fit. But it does not make any sense, since we only randomly produced these data. The reason is that the samples are too small."
   ]
  },
  {
   "cell_type": "markdown",
   "metadata": {},
   "source": [
    "experiment2, to study the effect of every single variant to the predicted value.  Therefore, we will fit 300 models, and \n",
    "obtain 300 different auc values. "
   ]
  },
  {
   "cell_type": "code",
   "execution_count": 159,
   "metadata": {},
   "outputs": [
    {
     "data": {
      "text/html": [
       "<div>\n",
       "<style scoped>\n",
       "    .dataframe tbody tr th:only-of-type {\n",
       "        vertical-align: middle;\n",
       "    }\n",
       "\n",
       "    .dataframe tbody tr th {\n",
       "        vertical-align: top;\n",
       "    }\n",
       "\n",
       "    .dataframe thead th {\n",
       "        text-align: right;\n",
       "    }\n",
       "</style>\n",
       "<table border=\"1\" class=\"dataframe\">\n",
       "  <thead>\n",
       "    <tr style=\"text-align: right;\">\n",
       "      <th></th>\n",
       "      <th>cv</th>\n",
       "      <th>var</th>\n",
       "    </tr>\n",
       "  </thead>\n",
       "  <tbody>\n",
       "    <tr>\n",
       "      <th>133</th>\n",
       "      <td>0.643151</td>\n",
       "      <td>133</td>\n",
       "    </tr>\n",
       "    <tr>\n",
       "      <th>162</th>\n",
       "      <td>0.642867</td>\n",
       "      <td>162</td>\n",
       "    </tr>\n",
       "    <tr>\n",
       "      <th>193</th>\n",
       "      <td>0.638897</td>\n",
       "      <td>193</td>\n",
       "    </tr>\n",
       "    <tr>\n",
       "      <th>165</th>\n",
       "      <td>0.620108</td>\n",
       "      <td>165</td>\n",
       "    </tr>\n",
       "    <tr>\n",
       "      <th>228</th>\n",
       "      <td>0.618123</td>\n",
       "      <td>228</td>\n",
       "    </tr>\n",
       "  </tbody>\n",
       "</table>\n",
       "</div>"
      ],
      "text/plain": [
       "           cv  var\n",
       "133  0.643151  133\n",
       "162  0.642867  162\n",
       "193  0.638897  193\n",
       "165  0.620108  165\n",
       "228  0.618123  228"
      ]
     },
     "execution_count": 159,
     "metadata": {},
     "output_type": "execute_result"
    }
   ],
   "source": [
    "df1=pd.DataFrame({'var':np.arange(300),'cv':np.zeros(300)}) # the number of variable is 300, the auc is 300. \n",
    "for i in range(300):\n",
    "    clf=LogisticRegression(solver='liblinear',C=0.1,penalty='l1',class_weight='balanced')\n",
    "    clf.fit(train[[i]],train['target']) # a model with only a variable; train[[i]] is the ith column data,a dataframe\n",
    "    probs=clf.predict_proba(train[[i]]) # get the probabilities of the ith column data.  train[i] is a data series.\n",
    "    df1.loc[i,'cv']=roc_auc_score(train['target'],probs[:,1])\n",
    "\n",
    "df1.sort_values('cv',inplace=True,ascending=False)\n",
    "df1.head()\n"
   ]
  },
  {
   "cell_type": "code",
   "execution_count": 160,
   "metadata": {},
   "outputs": [
    {
     "data": {
      "text/plain": [
       "<matplotlib.axes._subplots.AxesSubplot at 0x87c43dc6a0>"
      ]
     },
     "execution_count": 160,
     "metadata": {},
     "output_type": "execute_result"
    },
    {
     "data": {
      "image/png": "[encoded data removed]",
      "text/plain": [
       "<Figure size 432x288 with 1 Axes>"
      ]
     },
     "metadata": {},
     "output_type": "display_data"
    }
   ],
   "source": [
    "import seaborn as sns\n",
    "sns.distplot(df1['cv'])"
   ]
  },
  {
   "cell_type": "code",
   "execution_count": 165,
   "metadata": {},
   "outputs": [
    {
     "data": {
      "image/png": "[encoded data removed]",
      "text/plain": [
       "<Figure size 576x432 with 1 Axes>"
      ]
     },
     "metadata": {},
     "output_type": "display_data"
    }
   ],
   "source": [
    "plt.figure(figsize=(8,6))\n",
    "plt.scatter(train[133],train[122],c=train['target'])\n",
    "plt.show()"
   ]
  },
  {
   "cell_type": "markdown",
   "metadata": {},
   "source": [
    "if the dataset is large enough, we can not fit a suitable model with high auc value. this could be further validate with the same procedure as above. Here I do not continue to do it. "
   ]
  },
  {
   "cell_type": "code",
   "execution_count": null,
   "metadata": {},
   "outputs": [],
   "source": []
  }
 ],
 "metadata": {
  "kernelspec": {
   "display_name": "Python 3",
   "language": "python",
   "name": "python3"
  },
  "language_info": {
   "codemirror_mode": {
    "name": "ipython",
    "version": 3
   },
   "file_extension": ".py",
   "mimetype": "text/x-python",
   "name": "python",
   "nbconvert_exporter": "python",
   "pygments_lexer": "ipython3",
   "version": "3.5.0"
  }
 },
 "nbformat": 4,
 "nbformat_minor": 2
}
